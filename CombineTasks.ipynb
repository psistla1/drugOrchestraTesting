{
 "cells": [
  {
   "cell_type": "code",
   "execution_count": null,
   "id": "5b3d7618",
   "metadata": {},
   "outputs": [],
   "source": [
    "import numpy as np\n",
    "import os\n",
    "\n",
    "directory = ''#put data folder here\n",
    "\n",
    "task_data = []\n",
    "\n",
    "for filename in os.listdir(directory):\n",
    "    if filename.endswith(\".npy\"):\n",
    "        file_path = os.path.join(directory, filename)\n",
    "        data = np.load(file_path)\n",
    "        task_data.append(data)\n",
    "\n",
    "combined_data = np.vstack(task_data)\n",
    "np.save('combined_data.npy', combined_data)\n",
    "\n",
    "print('Completed')\n"
   ]
  }
 ],
 "metadata": {
  "kernelspec": {
   "display_name": "Python 3 (ipykernel)",
   "language": "python",
   "name": "python3"
  },
  "language_info": {
   "codemirror_mode": {
    "name": "ipython",
    "version": 3
   },
   "file_extension": ".py",
   "mimetype": "text/x-python",
   "name": "python",
   "nbconvert_exporter": "python",
   "pygments_lexer": "ipython3",
   "version": "3.10.9"
  }
 },
 "nbformat": 4,
 "nbformat_minor": 5
}
