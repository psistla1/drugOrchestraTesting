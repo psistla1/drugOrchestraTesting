{
 "cells": [
  {
   "cell_type": "code",
   "execution_count": 24,
   "id": "702e66ca",
   "metadata": {},
   "outputs": [],
   "source": [
    "import numpy as np\n",
    "import os\n",
    "from sklearn.model_selection import train_test_split\n",
    "from sklearn.linear_model import LinearRegression\n",
    "from sklearn.svm import SVR\n",
    "from sklearn.cluster import KMeans\n",
    "from sklearn.tree import DecisionTreeRegressor\n",
    "from sklearn.ensemble import RandomForestRegressor, GradientBoostingRegressor\n",
    "from sklearn.metrics import mean_squared_error, mean_absolute_error, r2_score\n",
    "from sklearn.utils import resample\n"
   ]
  },
  {
   "cell_type": "code",
   "execution_count": 25,
   "id": "8a98f2ba",
   "metadata": {},
   "outputs": [],
   "source": [
    "\n",
    "data_directory = '' # Directory containing the data files\n",
    "data_files = [f for f in os.listdir(data_directory) if f.endswith('.npy')]\n",
    "\n",
    "models = {\n",
    "    'Linear Regression': LinearRegression(),\n",
    "    'Support Vector Regression': SVR(),\n",
    "    'Decision Tree Regressor': DecisionTreeRegressor(),\n",
    "    'Random Forest Regressor': RandomForestRegressor(),\n",
    "    'Gradient Boosting Regressor': GradientBoostingRegressor()\n",
    "}\n",
    "\n",
    "\n",
    "n_bootstraps = 1000\n",
    "alpha = 0.05  # 95% confidence interval\n"
   ]
  },
  {
   "cell_type": "code",
   "execution_count": null,
   "id": "e1f61a15",
   "metadata": {},
   "outputs": [
    {
     "name": "stdout",
     "output_type": "stream",
     "text": [
      "Processing ccle_data_pca.npy\n"
     ]
    }
   ],
   "source": [
    "for file_name in data_files:\n",
    "    file_path = os.path.join(data_directory, file_name)\n",
    "    print(f\"Processing {file_name}\")\n",
    "\n",
    "    data = np.load(file_path)\n",
    "    X = data[:, :-1]\n",
    "    y = data[:, -1]\n",
    "\n",
    "    X_train, X_test, y_train, y_test = train_test_split(X, y, test_size=0.4, random_state=42)\n",
    "\n",
    "    for name, model in models.items():\n",
    "        model.fit(X_train, y_train)\n",
    "        predictions = model.predict(X_test)\n",
    "        mse_samples = []\n",
    "        scc_samples = []\n",
    "        for _ in range(n_bootstraps):\n",
    "            resample_indices = resample(range(len(y_test)), replace=True)\n",
    "            y_test_resampled = y_test[resample_indices]\n",
    "            predictions_resampled = predictions[resample_indices]\n",
    "\n",
    "            mse_resampled = mean_squared_error(y_test_resampled, predictions_resampled)\n",
    "            mse_samples.append(mse_resampled)\n",
    "\n",
    "            correlation_matrix = np.corrcoef(y_test_resampled, predictions_resampled)\n",
    "            correlation_xy = correlation_matrix[0,1]\n",
    "            scc_resampled = correlation_xy**2\n",
    "            scc_samples.append(scc_resampled)\n",
    "\n",
    "        mse_confidence = np.percentile(mse_samples, [100 * alpha / 2, 100 * (1 - alpha / 2)])\n",
    "        scc_confidence = np.percentile(scc_samples, [100 * alpha / 2, 100 * (1 - alpha / 2)])\n",
    "\n",
    "        mse = mean_squared_error(y_test, predictions)\n",
    "        correlation_matrix = np.corrcoef(y_test, predictions)\n",
    "        correlation_xy = correlation_matrix[0,1]\n",
    "        scc = correlation_xy**2\n",
    "\n",
    "        print(f\"{name} MSE: {mse} ± {mse_confidence}\")\n",
    "        print(f\"{name} SCC: {scc} ± {scc_confidence}\")"
   ]
  },
  {
   "cell_type": "code",
   "execution_count": null,
   "id": "f4ed3670",
   "metadata": {},
   "outputs": [],
   "source": []
  },
  {
   "cell_type": "code",
   "execution_count": null,
   "id": "d489fb6f",
   "metadata": {},
   "outputs": [],
   "source": []
  }
 ],
 "metadata": {
  "kernelspec": {
   "display_name": "Python 3 (ipykernel)",
   "language": "python",
   "name": "python3"
  },
  "language_info": {
   "codemirror_mode": {
    "name": "ipython",
    "version": 3
   },
   "file_extension": ".py",
   "mimetype": "text/x-python",
   "name": "python",
   "nbconvert_exporter": "python",
   "pygments_lexer": "ipython3",
   "version": "3.10.9"
  }
 },
 "nbformat": 4,
 "nbformat_minor": 5
}
