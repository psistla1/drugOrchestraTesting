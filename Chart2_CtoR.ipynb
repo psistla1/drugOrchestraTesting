{
 "cells": [
  {
   "cell_type": "code",
   "execution_count": 2,
   "id": "d37e73d6",
   "metadata": {},
   "outputs": [
    {
     "name": "stdout",
     "output_type": "stream",
     "text": [
      "Mean Squared Error: 1.80635580471495\n"
     ]
    }
   ],
   "source": [
    "import numpy as np\n",
    "from sklearn.tree import DecisionTreeRegressor\n",
    "from sklearn.metrics import mean_squared_error\n",
    "\n",
    "def load_data(filename):\n",
    "    data = np.load(filename)\n",
    "    features = data[:, :-1]  # all columns except the last one\n",
    "    labels = data[:, -1]     # the last column\n",
    "    return features, labels\n",
    "\n",
    "def train_decision_tree(X_train, y_train):\n",
    "    regressor = DecisionTreeRegressor()\n",
    "    regressor.fit(X_train, y_train)\n",
    "    return regressor\n",
    "\n",
    "def evaluate_model(model, X_test, y_test):\n",
    "    predictions = model.predict(X_test)\n",
    "    mse = mean_squared_error(y_test, predictions)\n",
    "    print(\"Mean Squared Error:\", mse)\n",
    "\n",
    "def main():\n",
    "    X_train, y_train = load_data('D:\\\\data\\\\PCA_data\\\\classification\\\\rh_data_pca.npy') #classification\n",
    "    X_test, y_test = load_data('D:\\\\data\\\\PCA_data\\\\regression\\\\gdsc_data_pca.npy') # regression\n",
    "\n",
    "\n",
    "    model = train_decision_tree(X_train, y_train)\n",
    "    evaluate_model(model, X_test, y_test)\n",
    "\n",
    "if __name__ == \"__main__\":\n",
    "    main()\n",
    "\n"
   ]
  },
  {
   "cell_type": "code",
   "execution_count": null,
   "id": "95a5076f",
   "metadata": {},
   "outputs": [],
   "source": []
  }
 ],
 "metadata": {
  "kernelspec": {
   "display_name": "Python 3 (ipykernel)",
   "language": "python",
   "name": "python3"
  },
  "language_info": {
   "codemirror_mode": {
    "name": "ipython",
    "version": 3
   },
   "file_extension": ".py",
   "mimetype": "text/x-python",
   "name": "python",
   "nbconvert_exporter": "python",
   "pygments_lexer": "ipython3",
   "version": "3.10.9"
  }
 },
 "nbformat": 4,
 "nbformat_minor": 5
}
