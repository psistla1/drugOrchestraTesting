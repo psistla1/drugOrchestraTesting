{
 "cells": [
  {
   "cell_type": "code",
   "execution_count": 3,
   "id": "b2b52555",
   "metadata": {},
   "outputs": [
    {
     "name": "stdout",
     "output_type": "stream",
     "text": [
      "Processed and saved: D:\\data\\dataFiles\\ccle_data_pca.npy\n",
      "Processed and saved: D:\\data\\dataFiles\\db_data_pca.npy\n",
      "Processed and saved: D:\\data\\dataFiles\\gdsc_data_pca.npy\n",
      "Processed and saved: D:\\data\\dataFiles\\os_data_pca.npy\n",
      "Processed and saved: D:\\data\\dataFiles\\pdx_data_pca.npy\n",
      "Processed and saved: D:\\data\\dataFiles\\rh_data_pca.npy\n",
      "Processed and saved: D:\\data\\dataFiles\\sider_data_pca.npy\n",
      "Processed and saved: D:\\data\\dataFiles\\stitch_data_900_pca.npy\n"
     ]
    }
   ],
   "source": [
    "import os\n",
    "import numpy as np\n",
    "from sklearn.decomposition import PCA\n",
    "\n",
    "directory = '' #place location of the data file here\n",
    "\n",
    "def apply_pca_to_files(directory, n_components=50):\n",
    "\n",
    "    for filename in os.listdir(directory):\n",
    "        filepath = os.path.join(directory, filename)\n",
    "        data = np.load(filepath)\n",
    "\n",
    "        features = data[:, :-1]\n",
    "        labels = data[:, -1]\n",
    "\n",
    "        pca = PCA(n_components=n_components)\n",
    "        transformed_features = pca.fit_transform(features)\n",
    "        transformed_features = transformed_features.astype(np.int32)\n",
    "\n",
    "        transformed_data = np.column_stack((transformed_features, labels))\n",
    "\n",
    "        new_filename = filename.replace('.npy', '_pca.npy')\n",
    "        new_filepath = os.path.join(directory, new_filename)\n",
    "        np.save(new_filepath, transformed_data)\n",
    "        print(f'Completed: {new_filepath}')\n",
    "        \n",
    "apply_pca_to_files(directory)\n"
   ]
  },
  {
   "cell_type": "code",
   "execution_count": null,
   "id": "0b330f61",
   "metadata": {},
   "outputs": [],
   "source": []
  }
 ],
 "metadata": {
  "kernelspec": {
   "display_name": "Python 3 (ipykernel)",
   "language": "python",
   "name": "python3"
  },
  "language_info": {
   "codemirror_mode": {
    "name": "ipython",
    "version": 3
   },
   "file_extension": ".py",
   "mimetype": "text/x-python",
   "name": "python",
   "nbconvert_exporter": "python",
   "pygments_lexer": "ipython3",
   "version": "3.10.9"
  }
 },
 "nbformat": 4,
 "nbformat_minor": 5
}
