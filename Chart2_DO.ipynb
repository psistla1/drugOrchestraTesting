{
 "cells": [
  {
   "cell_type": "code",
   "execution_count": 12,
   "id": "db550c30",
   "metadata": {},
   "outputs": [
   ],
   "source": [
    "import numpy as np\n",
    "from sklearn.tree import DecisionTreeClassifier\n",
    "from sklearn.metrics import roc_auc_score, average_precision_score, classification_report\n",
    "\n",
    "def adjust_features(features, target_feature_count):\n",
    "    current_feature_count = features.shape[1]\n",
    "    if current_feature_count < target_feature_count:\n",
    "        missing_features = target_feature_count - current_feature_count\n",
    "        zeros = np.zeros((features.shape[0], missing_features))\n",
    "        features = np.hstack((features, zeros))\n",
    "    elif current_feature_count > target_feature_count:\n",
    "        features = features[:, :target_feature_count]\n",
    "    return features\n",
    "\n",
    "def load_data(filename, target_feature_count=None):\n",
    "    data = np.load(filename)\n",
    "    features = data[:, :-1]\n",
    "    labels = data[:, -1]\n",
    "    if target_feature_count is not None:\n",
    "        features = adjust_features(features, target_feature_count)\n",
    "    return features, labels\n",
    "\n",
    "\n",
    "def train_decision_tree(X_train, y_train):\n",
    "    classifier = DecisionTreeClassifier()\n",
    "    classifier.fit(X_train, y_train)\n",
    "    return classifier\n",
    "\n",
    "\n",
    "\n",
    "def evaluate_model(model, X_test, y_test):\n",
    "    predictions = model.predict(X_test)\n",
    "    probabilities = model.predict_proba(X_test)[:, 1]  # Probabilities for the positive class\n",
    "\n",
    "    auroc = roc_auc_score(y_test, probabilities)\n",
    "    auprc = average_precision_score(y_test, probabilities)\n",
    "\n",
    "    print(\"AUROC (Area Under ROC):\", auroc)\n",
    "    print(\"AUPRC (Area Under Precision-Recall Curve):\", auprc)\n",
    "    print(\"Classification Report:\")\n",
    "    print(classification_report(y_test, predictions))\n",
    "\n",
    "def main():      \n",
    "    X_train, y_train = load_data('D:\\\\data\\\\PCA_data\\\\classification\\\\rh_data_pca.npy')\n",
    "    feature_count = X_train.shape[1]\n",
    "    X_test, y_test = load_data('D:\\\\data\\\\PCA_data\\\\regression\\\\stitch_data_900_pca.npy', target_feature_count=feature_count)\n",
    "\n",
    "    model = train_decision_tree(X_train, y_train)\n",
    "    evaluate_model(model, X_test, y_test)\n",
    "\n",
    "if __name__ == \"__main__\":\n",
    "    main()\n"
   ]
  },
  {
   "cell_type": "code",
   "execution_count": null,
   "id": "4ed9ab6b",
   "metadata": {},
   "outputs": [],
   "source": []
  }
 ],
 "metadata": {
  "kernelspec": {
   "display_name": "Python 3 (ipykernel)",
   "language": "python",
   "name": "python3"
  },
  "language_info": {
   "codemirror_mode": {
    "name": "ipython",
    "version": 3
   },
   "file_extension": ".py",
   "mimetype": "text/x-python",
   "name": "python",
   "nbconvert_exporter": "python",
   "pygments_lexer": "ipython3",
   "version": "3.10.9"
  }
 },
 "nbformat": 4,
 "nbformat_minor": 5
}
